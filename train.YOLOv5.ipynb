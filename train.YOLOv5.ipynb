{
  "nbformat": 4,
  "nbformat_minor": 0,
  "metadata": {
    "colab": {
      "name": "Untitled4.ipynb",
      "provenance": [],
      "collapsed_sections": [],
      "include_colab_link": true
    },
    "kernelspec": {
      "name": "python3",
      "display_name": "Python 3"
    },
    "language_info": {
      "name": "python"
    },
    "accelerator": "GPU"
  },
  "cells": [
    {
      "cell_type": "markdown",
      "metadata": {
        "id": "view-in-github",
        "colab_type": "text"
      },
      "source": [
        "<a href=\"https://colab.research.google.com/github/ali-kmirzaei/YOLO/blob/main/train.YOLOv5.ipynb\" target=\"_parent\"><img src=\"https://colab.research.google.com/assets/colab-badge.svg\" alt=\"Open In Colab\"/></a>"
      ]
    },
    {
      "cell_type": "markdown",
      "source": [
        "# **Initialization:**"
      ],
      "metadata": {
        "id": "gw0YTipfgzP7"
      }
    },
    {
      "cell_type": "code",
      "execution_count": null,
      "metadata": {
        "id": "bfmBECvKub9t"
      },
      "outputs": [],
      "source": [
        "!git clone https://github.com/ultralytics/yolov5 "
      ]
    },
    {
      "cell_type": "code",
      "source": [
        "%cd yolov5\n",
        "!pip install -r requirements.txt "
      ],
      "metadata": {
        "id": "4CQClzLXuii0"
      },
      "execution_count": null,
      "outputs": []
    },
    {
      "cell_type": "code",
      "source": [
        "# import dataset from google drive\n",
        "from google.colab import drive\n",
        "drive.mount('/content/gdrive')\n",
        "!ln -s /content/gdrive/My\\ Drive/ /mydrive\n",
        "!ls /mydrive\n"
      ],
      "metadata": {
        "id": "BEjHphQWvYyl"
      },
      "execution_count": null,
      "outputs": []
    },
    {
      "cell_type": "code",
      "source": [
        "!cp -rf /mydrive/last.pt ../yolov5/weights.pt"
      ],
      "metadata": {
        "id": "BZU5zOw063N2"
      },
      "execution_count": null,
      "outputs": []
    },
    {
      "cell_type": "code",
      "source": [
        "!unzip /mydrive/newPack.zip -d data"
      ],
      "metadata": {
        "id": "TNq0YTXfxv3V"
      },
      "execution_count": null,
      "outputs": []
    },
    {
      "cell_type": "code",
      "source": [
        "!cp /mydrive/last.pt data/last_trained.pt"
      ],
      "metadata": {
        "id": "ulkzJoe9hVMt"
      },
      "execution_count": null,
      "outputs": []
    },
    {
      "cell_type": "code",
      "source": [
        "!unzip /mydrive/extra.zip -d data/images/extra_test"
      ],
      "metadata": {
        "id": "cMOJgJ9WK-L7"
      },
      "execution_count": null,
      "outputs": []
    },
    {
      "cell_type": "markdown",
      "source": [
        "# **split train and test files:**"
      ],
      "metadata": {
        "id": "9w1b9n3x0RnK"
      }
    },
    {
      "cell_type": "code",
      "source": [
        "import os\n",
        "import glob\n",
        "import random\n",
        "import shutil"
      ],
      "metadata": {
        "id": "E8tovU15y0nk"
      },
      "execution_count": 3,
      "outputs": []
    },
    {
      "cell_type": "code",
      "source": [
        "!rm -rf data/images\n",
        "!rm -rf data/labels\n",
        "\n",
        "!mkdir data/images\n",
        "!mkdir data/images/test\n",
        "!mkdir data/images/train\n",
        "\n",
        "!mkdir data/labels\n",
        "!mkdir data/labels/test\n",
        "!mkdir data/labels/train"
      ],
      "metadata": {
        "id": "-3HGT9xnzUKJ"
      },
      "execution_count": null,
      "outputs": []
    },
    {
      "cell_type": "code",
      "source": [
        "image_list = list()\n",
        "label_list = list()\n",
        "total_tuples = list()\n",
        "\n",
        "total = glob.glob('data/newPack/*')\n",
        "total.sort()\n",
        "\n",
        "for i in range(0, len(total)-1, 2):\n",
        "  total_tuples.append((total[i], total[i+1]))\n",
        "\n",
        "# # validate list:\n",
        "# for tpl in total_tuples:\n",
        "#   if tpl[0][13: 23] != tpl[1][13: 23]:\n",
        "#     print(\"ERROR\")\n",
        "\n",
        "random.shuffle(total_tuples)\n",
        "\n",
        "num = 1085\n",
        "for i in range(num):\n",
        "  # IMG\n",
        "  src = total_tuples[i][0]\n",
        "  dst = 'data/images/train/'+src[13:]\n",
        "  shutil.copyfile(src, dst)\n",
        "  # LBL\n",
        "  src = total_tuples[i][1]\n",
        "  dst = 'data/labels/train/'+src[13:]\n",
        "  shutil.copyfile(src, dst)\n",
        "\n",
        "for i in range(num, 1550):\n",
        "  # IMG\n",
        "  src = total_tuples[i][0]\n",
        "  dst = 'data/images/test/'+src[13:]\n",
        "  shutil.copyfile(src, dst)\n",
        "  # LBL\n",
        "  src = total_tuples[i][1]\n",
        "  dst = 'data/labels/test/'+src[13:]\n",
        "  shutil.copyfile(src, dst)"
      ],
      "metadata": {
        "id": "khzKVfYvzRl3"
      },
      "execution_count": null,
      "outputs": []
    },
    {
      "cell_type": "code",
      "source": [
        "# Check Distributions\n",
        "\n",
        "alls = glob.glob('data/newPack/*.jpg')\n",
        "trains = glob.glob('data/images/train/*')\n",
        "tests = glob.glob('data/images/test/*')\n",
        "nums = ['1', '2', '3', '4', '5', '6', '7', '8', '9', '0']\n",
        "\n",
        "cnt = 0\n",
        "for all in alls:\n",
        "  if all[13] in nums:\n",
        "    cnt += 1\n",
        "all_per = 100 * cnt / len(alls)\n",
        "\n",
        "\n",
        "cnt = 0\n",
        "for test in tests:\n",
        "  if test[18] in nums:\n",
        "    cnt += 1\n",
        "test_per = 100 * cnt / len(tests)\n",
        "\n",
        "cnt = 0\n",
        "for train in trains:\n",
        "  if train[19] in nums:\n",
        "    cnt += 1\n",
        "train_per = 100 * cnt / len(trains)\n",
        "\n",
        "print(all_per, test_per, train_per)"
      ],
      "metadata": {
        "colab": {
          "base_uri": "https://localhost:8080/"
        },
        "id": "IoznwDy58d7q",
        "outputId": "f6d21ca0-969d-416e-9680-c47bd9efa564"
      },
      "execution_count": null,
      "outputs": [
        {
          "output_type": "stream",
          "name": "stdout",
          "text": [
            "58.064516129032256 57.204301075268816 58.433179723502306\n"
          ]
        }
      ]
    },
    {
      "cell_type": "markdown",
      "source": [
        "# **train and test and visualization model:**"
      ],
      "metadata": {
        "id": "r0Q2-Iosg_Ac"
      }
    },
    {
      "cell_type": "code",
      "source": [
        "!rm -rf runs/train/yolo_idcard32"
      ],
      "metadata": {
        "id": "-4VqyYWdEk2h"
      },
      "execution_count": null,
      "outputs": []
    },
    {
      "cell_type": "code",
      "source": [
        "# TRAIN\n",
        "!python train.py --img 640 --cfg data/yolov5s.yaml --batch 64 --epochs 100 --data idcard_data.yaml --weights yolov5s.pt --name yolo_idcard3 --cache"
      ],
      "metadata": {
        "id": "v8BZPi6U1TFK"
      },
      "execution_count": null,
      "outputs": []
    },
    {
      "cell_type": "code",
      "source": [
        "# Free Space!"
      ],
      "metadata": {
        "id": "JjJkQezAkuVb"
      },
      "execution_count": null,
      "outputs": []
    },
    {
      "cell_type": "code",
      "source": [
        "# TEST\n",
        "!python val.py --data idcard_data.yaml --weights runs/train/yolo_idcard35/weights/last.pt --name yolo_idcard3 --task val"
      ],
      "metadata": {
        "id": "-Ing7O836Vus"
      },
      "execution_count": null,
      "outputs": []
    },
    {
      "cell_type": "code",
      "source": [
        "# Visualize\n",
        "from utils.plots import plot_results\n",
        "plot_results('results.csv')"
      ],
      "metadata": {
        "id": "ry3ZkklLOjRy"
      },
      "execution_count": null,
      "outputs": []
    },
    {
      "cell_type": "code",
      "source": [
        "# DETECT\n",
        "!python detect.py --source 01.jpeg --weights weights.pt --name yolo_idcard_extra --save-crop"
      ],
      "metadata": {
        "id": "Wd_bqmN2OqQo"
      },
      "execution_count": null,
      "outputs": []
    },
    {
      "cell_type": "code",
      "source": [
        "!cp -r runs/detect/ /mydrive/YOLOv5Performance/new_detect"
      ],
      "metadata": {
        "id": "xKX0PqEXI4qC"
      },
      "execution_count": null,
      "outputs": []
    },
    {
      "cell_type": "code",
      "source": [
        "!mkdir /mydrive/YOLOv5Performance/200e/val"
      ],
      "metadata": {
        "id": "u-gmHUUBZWL0"
      },
      "execution_count": null,
      "outputs": []
    },
    {
      "cell_type": "code",
      "source": [
        "!rm -rf runs/detect/yolo_idcard_extra2"
      ],
      "metadata": {
        "id": "L_WQ4qclZ-Ut"
      },
      "execution_count": null,
      "outputs": []
    },
    {
      "cell_type": "code",
      "source": [
        ""
      ],
      "metadata": {
        "id": "Aa4hT09BjkIp"
      },
      "execution_count": null,
      "outputs": []
    },
    {
      "cell_type": "markdown",
      "source": [
        "# **OCR:**"
      ],
      "metadata": {
        "id": "c4wn0hS1Id_f"
      }
    },
    {
      "cell_type": "code",
      "source": [
        "!pip uninstall imgaug"
      ],
      "metadata": {
        "id": "IDX_ug554fHx"
      },
      "execution_count": null,
      "outputs": []
    },
    {
      "cell_type": "code",
      "source": [
        "!pip install pytesseract"
      ],
      "metadata": {
        "id": "jnLGe1e14SHT"
      },
      "execution_count": null,
      "outputs": []
    },
    {
      "cell_type": "code",
      "source": [
        "!sudo apt-get install tesseract-ocr-fas"
      ],
      "metadata": {
        "id": "DJD9fUozLwXS"
      },
      "execution_count": null,
      "outputs": []
    },
    {
      "cell_type": "code",
      "source": [
        "!pip install --ignore-installed Pillow==9.0.0"
      ],
      "metadata": {
        "id": "JLVkDNXR5Szb",
        "outputId": "537e2f4a-2c54-499c-ea96-66dba7672bf0",
        "colab": {
          "base_uri": "https://localhost:8080/",
          "height": 174
        }
      },
      "execution_count": 28,
      "outputs": [
        {
          "output_type": "stream",
          "name": "stdout",
          "text": [
            "Collecting Pillow==9.0.0\n",
            "  Using cached Pillow-9.0.0-cp37-cp37m-manylinux_2_17_x86_64.manylinux2014_x86_64.whl (4.3 MB)\n",
            "Installing collected packages: Pillow\n",
            "Successfully installed Pillow-9.1.0\n"
          ]
        },
        {
          "output_type": "display_data",
          "data": {
            "application/vnd.colab-display-data+json": {
              "pip_warning": {
                "packages": [
                  "PIL"
                ]
              }
            }
          },
          "metadata": {}
        }
      ]
    },
    {
      "cell_type": "code",
      "source": [
        "from PIL import Image\n",
        "import pytesseract\n",
        "import cv2 as cv"
      ],
      "metadata": {
        "id": "hZvSa0wmIskC"
      },
      "execution_count": 1,
      "outputs": []
    },
    {
      "cell_type": "code",
      "source": [
        "import numpy as np\n",
        "from matplotlib import pyplot as plt"
      ],
      "metadata": {
        "id": "GQ_M0Rhm66mD"
      },
      "execution_count": 2,
      "outputs": []
    },
    {
      "cell_type": "code",
      "source": [
        "IMG = Image.open('id2.jpg')\n",
        "# IMG.save(\"id2.jpg\", dpi=(300,300))\n",
        "# IMG = Image.open('id.jpg')\n",
        "# IMG = cv.cvtColor(IMG, cv.COLOR_RGB2BGR)\n",
        "# IMG = IMG.convert(\"0\")\n",
        "# IMG = cv.imread('id.jpg', cv.IMREAD_GRAYSCALE)\n",
        "LANG = \"fas\"\n",
        "CONFIG = \"--psm 11 --oem 3\"\n",
        "print(pytesseract.image_to_string(IMG, lang=LANG))\n",
        "IMG"
      ],
      "metadata": {
        "id": "WJEEc9fqIhTz"
      },
      "execution_count": null,
      "outputs": []
    },
    {
      "cell_type": "code",
      "source": [
        "img = cv.imread('id2.jpg')\n",
        "\n",
        "ret1,dst = cv.threshold(img, 127, 255, cv.THRESH_BINARY)\n",
        "\n",
        "\n",
        "# dst = img[10:30, 10:25]\n",
        "# dst = img[:, 10:15]\n",
        "# ret1,dst = cv.threshold(dst, 127, 255, cv.THRESH_BINARY)\n",
        "plt.subplot(121),plt.imshow(img)\n",
        "plt.subplot(122),plt.imshow(dst)\n",
        "plt.show()\n",
        "\n",
        "# dst = img[20]\n",
        "# i = 0\n",
        "# for pixel in dst:\n",
        "#   if 0 in pixel:\n",
        "#     print(i)\n",
        "#   i += 1\n",
        "\n",
        "\n",
        "rows = len(img)\n",
        "cols = len(img[0])\n",
        "print(rows, cols)\n",
        "\n",
        "for i in range(cols):\n",
        "  for j in range(rows):\n",
        "    if 0 in dst[i][j]:\n",
        "      print(i, j)"
      ],
      "metadata": {
        "id": "_IaLNvNp-zHo",
        "outputId": "9834d88c-8369-4a39-9ab8-6cdac9c06b39",
        "colab": {
          "base_uri": "https://localhost:8080/",
          "height": 1000
        }
      },
      "execution_count": 76,
      "outputs": [
        {
          "output_type": "display_data",
          "data": {
            "text/plain": [
              "<Figure size 432x288 with 2 Axes>"
            ],
            "image/png": "[encoded data removed]"
          },
          "metadata": {
            "needs_background": "light"
          }
        },
        {
          "output_type": "stream",
          "name": "stdout",
          "text": [
            "38 162\n",
            "12 11\n",
            "12 12\n",
            "12 13\n",
            "12 17\n",
            "12 18\n",
            "12 21\n",
            "12 22\n",
            "12 23\n",
            "12 24\n",
            "12 29\n",
            "12 30\n",
            "12 31\n",
            "12 32\n",
            "12 33\n",
            "13 11\n",
            "13 12\n",
            "13 13\n",
            "13 16\n",
            "13 17\n",
            "13 18\n",
            "13 19\n",
            "13 21\n",
            "13 22\n",
            "13 23\n",
            "13 24\n",
            "13 28\n",
            "13 29\n",
            "13 30\n",
            "13 31\n",
            "13 32\n",
            "13 33\n",
            "14 11\n",
            "14 12\n",
            "14 13\n",
            "14 16\n",
            "14 17\n",
            "14 18\n",
            "14 19\n",
            "14 21\n",
            "14 22\n",
            "14 23\n",
            "14 24\n",
            "14 27\n",
            "14 28\n",
            "14 29\n",
            "14 30\n",
            "14 31\n",
            "14 32\n",
            "14 33\n",
            "15 11\n",
            "15 12\n",
            "15 13\n",
            "15 14\n",
            "15 16\n",
            "15 17\n",
            "15 18\n",
            "15 19\n",
            "15 21\n",
            "15 22\n",
            "15 23\n",
            "15 24\n",
            "15 27\n",
            "15 28\n",
            "15 29\n",
            "15 30\n",
            "15 32\n",
            "16 11\n",
            "16 12\n",
            "16 13\n",
            "16 14\n",
            "16 15\n",
            "16 16\n",
            "16 17\n",
            "16 18\n",
            "16 19\n",
            "16 20\n",
            "16 21\n",
            "16 22\n",
            "16 23\n",
            "16 24\n",
            "16 27\n",
            "16 28\n",
            "16 29\n",
            "16 30\n",
            "17 11\n",
            "17 12\n",
            "17 13\n",
            "17 14\n",
            "17 15\n",
            "17 16\n",
            "17 17\n",
            "17 18\n",
            "17 19\n",
            "17 20\n",
            "17 21\n",
            "17 22\n",
            "17 23\n",
            "17 27\n",
            "17 28\n",
            "17 29\n",
            "17 30\n",
            "17 31\n",
            "17 32\n",
            "17 33\n",
            "17 34\n",
            "17 35\n",
            "18 11\n",
            "18 12\n",
            "18 13\n",
            "18 14\n",
            "18 15\n",
            "18 16\n",
            "18 17\n",
            "18 18\n",
            "18 19\n",
            "18 20\n",
            "18 21\n",
            "18 22\n",
            "18 23\n",
            "18 27\n",
            "18 28\n",
            "18 29\n",
            "18 30\n",
            "18 31\n",
            "18 32\n",
            "18 33\n",
            "18 34\n",
            "18 35\n",
            "19 11\n",
            "19 12\n",
            "19 13\n",
            "19 14\n",
            "19 15\n",
            "19 16\n",
            "19 17\n",
            "19 20\n",
            "19 21\n",
            "19 25\n",
            "19 28\n",
            "19 29\n",
            "19 30\n",
            "19 31\n",
            "19 32\n",
            "19 33\n",
            "19 34\n",
            "19 35\n",
            "20 11\n",
            "20 12\n",
            "20 13\n",
            "20 14\n",
            "20 29\n",
            "20 30\n",
            "20 31\n",
            "20 32\n",
            "20 33\n",
            "20 34\n",
            "21 12\n",
            "21 13\n",
            "21 14\n",
            "21 30\n",
            "21 31\n",
            "21 32\n",
            "21 33\n",
            "22 12\n",
            "22 13\n",
            "22 14\n",
            "22 29\n",
            "22 30\n",
            "22 31\n",
            "22 32\n",
            "23 11\n",
            "23 12\n",
            "23 13\n",
            "23 14\n",
            "23 28\n",
            "23 29\n",
            "23 30\n",
            "23 31\n",
            "23 32\n",
            "24 11\n",
            "24 12\n",
            "24 13\n",
            "24 14\n",
            "24 28\n",
            "24 29\n",
            "24 30\n",
            "24 31\n",
            "25 12\n",
            "25 13\n",
            "25 14\n",
            "25 27\n",
            "25 28\n",
            "25 29\n",
            "25 30\n",
            "26 12\n",
            "26 13\n",
            "26 28\n",
            "26 29\n",
            "26 30\n"
          ]
        },
        {
          "output_type": "error",
          "ename": "IndexError",
          "evalue": "ignored",
          "traceback": [
            "\u001b[0;31m---------------------------------------------------------------------------\u001b[0m",
            "\u001b[0;31mIndexError\u001b[0m                                Traceback (most recent call last)",
            "\u001b[0;32m<ipython-input-76-f5a014d460a3>\u001b[0m in \u001b[0;36m<module>\u001b[0;34m()\u001b[0m\n\u001b[1;32m     25\u001b[0m \u001b[0;32mfor\u001b[0m \u001b[0mi\u001b[0m \u001b[0;32min\u001b[0m \u001b[0mrange\u001b[0m\u001b[0;34m(\u001b[0m\u001b[0mcols\u001b[0m\u001b[0;34m)\u001b[0m\u001b[0;34m:\u001b[0m\u001b[0;34m\u001b[0m\u001b[0;34m\u001b[0m\u001b[0m\n\u001b[1;32m     26\u001b[0m   \u001b[0;32mfor\u001b[0m \u001b[0mj\u001b[0m \u001b[0;32min\u001b[0m \u001b[0mrange\u001b[0m\u001b[0;34m(\u001b[0m\u001b[0mrows\u001b[0m\u001b[0;34m)\u001b[0m\u001b[0;34m:\u001b[0m\u001b[0;34m\u001b[0m\u001b[0;34m\u001b[0m\u001b[0m\n\u001b[0;32m---> 27\u001b[0;31m     \u001b[0;32mif\u001b[0m \u001b[0;36m0\u001b[0m \u001b[0;32min\u001b[0m \u001b[0mdst\u001b[0m\u001b[0;34m[\u001b[0m\u001b[0mi\u001b[0m\u001b[0;34m]\u001b[0m\u001b[0;34m[\u001b[0m\u001b[0mj\u001b[0m\u001b[0;34m]\u001b[0m\u001b[0;34m:\u001b[0m\u001b[0;34m\u001b[0m\u001b[0;34m\u001b[0m\u001b[0m\n\u001b[0m\u001b[1;32m     28\u001b[0m       \u001b[0mprint\u001b[0m\u001b[0;34m(\u001b[0m\u001b[0mi\u001b[0m\u001b[0;34m,\u001b[0m \u001b[0mj\u001b[0m\u001b[0;34m)\u001b[0m\u001b[0;34m\u001b[0m\u001b[0;34m\u001b[0m\u001b[0m\n",
            "\u001b[0;31mIndexError\u001b[0m: index 38 is out of bounds for axis 0 with size 38"
          ]
        }
      ]
    },
    {
      "cell_type": "code",
      "source": [
        "  "
      ],
      "metadata": {
        "id": "9DaPJQbdI6VN"
      },
      "execution_count": null,
      "outputs": []
    }
  ]
}