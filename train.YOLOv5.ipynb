{
  "nbformat": 4,
  "nbformat_minor": 0,
  "metadata": {
    "colab": {
      "name": "Untitled4.ipynb",
      "provenance": [],
      "collapsed_sections": [],
      "include_colab_link": true
    },
    "kernelspec": {
      "name": "python3",
      "display_name": "Python 3"
    },
    "language_info": {
      "name": "python"
    },
    "accelerator": "GPU"
  },
  "cells": [
    {
      "cell_type": "markdown",
      "metadata": {
        "id": "view-in-github",
        "colab_type": "text"
      },
      "source": [
        "<a href=\"https://colab.research.google.com/github/ali-kmirzaei/YOLO/blob/main/train.YOLOv5.ipynb\" target=\"_parent\"><img src=\"https://colab.research.google.com/assets/colab-badge.svg\" alt=\"Open In Colab\"/></a>"
      ]
    },
    {
      "cell_type": "markdown",
      "source": [
        "# **Initialization:**"
      ],
      "metadata": {
        "id": "gw0YTipfgzP7"
      }
    },
    {
      "cell_type": "code",
      "execution_count": 1,
      "metadata": {
        "id": "bfmBECvKub9t",
        "outputId": "1209b304-7c5c-440a-fd8c-f14615561909",
        "colab": {
          "base_uri": "https://localhost:8080/"
        }
      },
      "outputs": [
        {
          "output_type": "stream",
          "name": "stdout",
          "text": [
            "Cloning into 'yolov5'...\n",
            "remote: Enumerating objects: 12824, done.\u001b[K\n",
            "remote: Total 12824 (delta 0), reused 0 (delta 0), pack-reused 12824\u001b[K\n",
            "Receiving objects: 100% (12824/12824), 11.75 MiB | 5.02 MiB/s, done.\n",
            "Resolving deltas: 100% (8914/8914), done.\n"
          ]
        }
      ],
      "source": [
        "!git clone https://github.com/ultralytics/yolov5 "
      ]
    },
    {
      "cell_type": "code",
      "source": [
        "%cd yolov5\n",
        "!pip install -r requirements.txt "
      ],
      "metadata": {
        "id": "4CQClzLXuii0"
      },
      "execution_count": null,
      "outputs": []
    },
    {
      "cell_type": "code",
      "source": [
        "# import dataset from google drive\n",
        "from google.colab import drive\n",
        "drive.mount('/content/gdrive')\n",
        "!ln -s /content/gdrive/My\\ Drive/ /mydrive\n",
        "!ls /mydrive\n"
      ],
      "metadata": {
        "id": "BEjHphQWvYyl",
        "colab": {
          "base_uri": "https://localhost:8080/"
        },
        "outputId": "5cc5599c-1357-4635-dfec-068a9b4d145a"
      },
      "execution_count": null,
      "outputs": [
        {
          "output_type": "stream",
          "name": "stdout",
          "text": [
            "Mounted at /content/gdrive\n",
            " 4001419029.zip     extra.zip   newPack.zip   step2_6000.weights\n",
            "'Colab Notebooks'   last.pt     obj.zip\n"
          ]
        }
      ]
    },
    {
      "cell_type": "code",
      "source": [
        "!cp -rf /mydrive/last.pt ../yolov5/weights.pt"
      ],
      "metadata": {
        "id": "BZU5zOw063N2"
      },
      "execution_count": null,
      "outputs": []
    },
    {
      "cell_type": "code",
      "source": [
        "!unzip /mydrive/newPack.zip -d data"
      ],
      "metadata": {
        "id": "TNq0YTXfxv3V"
      },
      "execution_count": null,
      "outputs": []
    },
    {
      "cell_type": "code",
      "source": [
        "!cp /mydrive/last.pt data/last_trained.pt"
      ],
      "metadata": {
        "id": "ulkzJoe9hVMt"
      },
      "execution_count": null,
      "outputs": []
    },
    {
      "cell_type": "code",
      "source": [
        "!unzip /mydrive/extra.zip -d data/images/extra_test"
      ],
      "metadata": {
        "id": "cMOJgJ9WK-L7"
      },
      "execution_count": null,
      "outputs": []
    },
    {
      "cell_type": "markdown",
      "source": [
        "# **split train and test files:**"
      ],
      "metadata": {
        "id": "9w1b9n3x0RnK"
      }
    },
    {
      "cell_type": "code",
      "source": [
        "import os\n",
        "import glob\n",
        "import random\n",
        "import shutil"
      ],
      "metadata": {
        "id": "E8tovU15y0nk"
      },
      "execution_count": 3,
      "outputs": []
    },
    {
      "cell_type": "code",
      "source": [
        "!rm -rf data/images\n",
        "!rm -rf data/labels\n",
        "\n",
        "!mkdir data/images\n",
        "!mkdir data/images/test\n",
        "!mkdir data/images/train\n",
        "\n",
        "!mkdir data/labels\n",
        "!mkdir data/labels/test\n",
        "!mkdir data/labels/train"
      ],
      "metadata": {
        "id": "-3HGT9xnzUKJ"
      },
      "execution_count": null,
      "outputs": []
    },
    {
      "cell_type": "code",
      "source": [
        "image_list = list()\n",
        "label_list = list()\n",
        "total_tuples = list()\n",
        "\n",
        "total = glob.glob('data/newPack/*')\n",
        "total.sort()\n",
        "\n",
        "for i in range(0, len(total)-1, 2):\n",
        "  total_tuples.append((total[i], total[i+1]))\n",
        "\n",
        "# # validate list:\n",
        "# for tpl in total_tuples:\n",
        "#   if tpl[0][13: 23] != tpl[1][13: 23]:\n",
        "#     print(\"ERROR\")\n",
        "\n",
        "random.shuffle(total_tuples)\n",
        "\n",
        "num = 1085\n",
        "for i in range(num):\n",
        "  # IMG\n",
        "  src = total_tuples[i][0]\n",
        "  dst = 'data/images/train/'+src[13:]\n",
        "  shutil.copyfile(src, dst)\n",
        "  # LBL\n",
        "  src = total_tuples[i][1]\n",
        "  dst = 'data/labels/train/'+src[13:]\n",
        "  shutil.copyfile(src, dst)\n",
        "\n",
        "for i in range(num, 1550):\n",
        "  # IMG\n",
        "  src = total_tuples[i][0]\n",
        "  dst = 'data/images/test/'+src[13:]\n",
        "  shutil.copyfile(src, dst)\n",
        "  # LBL\n",
        "  src = total_tuples[i][1]\n",
        "  dst = 'data/labels/test/'+src[13:]\n",
        "  shutil.copyfile(src, dst)"
      ],
      "metadata": {
        "id": "khzKVfYvzRl3"
      },
      "execution_count": null,
      "outputs": []
    },
    {
      "cell_type": "code",
      "source": [
        "# Check Distributions\n",
        "\n",
        "alls = glob.glob('data/newPack/*.jpg')\n",
        "trains = glob.glob('data/images/train/*')\n",
        "tests = glob.glob('data/images/test/*')\n",
        "nums = ['1', '2', '3', '4', '5', '6', '7', '8', '9', '0']\n",
        "\n",
        "cnt = 0\n",
        "for all in alls:\n",
        "  if all[13] in nums:\n",
        "    cnt += 1\n",
        "all_per = 100 * cnt / len(alls)\n",
        "\n",
        "\n",
        "cnt = 0\n",
        "for test in tests:\n",
        "  if test[18] in nums:\n",
        "    cnt += 1\n",
        "test_per = 100 * cnt / len(tests)\n",
        "\n",
        "cnt = 0\n",
        "for train in trains:\n",
        "  if train[19] in nums:\n",
        "    cnt += 1\n",
        "train_per = 100 * cnt / len(trains)\n",
        "\n",
        "print(all_per, test_per, train_per)"
      ],
      "metadata": {
        "colab": {
          "base_uri": "https://localhost:8080/"
        },
        "id": "IoznwDy58d7q",
        "outputId": "f6d21ca0-969d-416e-9680-c47bd9efa564"
      },
      "execution_count": null,
      "outputs": [
        {
          "output_type": "stream",
          "name": "stdout",
          "text": [
            "58.064516129032256 57.204301075268816 58.433179723502306\n"
          ]
        }
      ]
    },
    {
      "cell_type": "markdown",
      "source": [
        "# **train and test and visualization model:**"
      ],
      "metadata": {
        "id": "r0Q2-Iosg_Ac"
      }
    },
    {
      "cell_type": "code",
      "source": [
        "!rm -rf runs/train/yolo_idcard32"
      ],
      "metadata": {
        "id": "-4VqyYWdEk2h"
      },
      "execution_count": null,
      "outputs": []
    },
    {
      "cell_type": "code",
      "source": [
        "# TRAIN\n",
        "!python train.py --img 640 --cfg data/yolov5s.yaml --batch 64 --epochs 100 --data idcard_data.yaml --weights yolov5s.pt --name yolo_idcard3 --cache"
      ],
      "metadata": {
        "id": "v8BZPi6U1TFK"
      },
      "execution_count": null,
      "outputs": []
    },
    {
      "cell_type": "code",
      "source": [
        "# Free Space!"
      ],
      "metadata": {
        "id": "JjJkQezAkuVb"
      },
      "execution_count": null,
      "outputs": []
    },
    {
      "cell_type": "code",
      "source": [
        "# TEST\n",
        "!python val.py --data idcard_data.yaml --weights runs/train/yolo_idcard35/weights/last.pt --name yolo_idcard3 --task val"
      ],
      "metadata": {
        "id": "-Ing7O836Vus"
      },
      "execution_count": null,
      "outputs": []
    },
    {
      "cell_type": "code",
      "source": [
        "# Visualize\n",
        "from utils.plots import plot_results\n",
        "plot_results('results.csv')"
      ],
      "metadata": {
        "id": "ry3ZkklLOjRy"
      },
      "execution_count": null,
      "outputs": []
    },
    {
      "cell_type": "code",
      "source": [
        "# DETECT\n",
        "!python detect.py --source 01.jpeg --weights weights.pt --name yolo_idcard_extra --save-crop"
      ],
      "metadata": {
        "id": "Wd_bqmN2OqQo"
      },
      "execution_count": null,
      "outputs": []
    },
    {
      "cell_type": "code",
      "source": [
        "!cp -r runs/detect/ /mydrive/YOLOv5Performance/new_detect"
      ],
      "metadata": {
        "id": "xKX0PqEXI4qC"
      },
      "execution_count": null,
      "outputs": []
    },
    {
      "cell_type": "code",
      "source": [
        "!mkdir /mydrive/YOLOv5Performance/200e/val"
      ],
      "metadata": {
        "id": "u-gmHUUBZWL0"
      },
      "execution_count": null,
      "outputs": []
    },
    {
      "cell_type": "code",
      "source": [
        "!rm -rf runs/detect/yolo_idcard_extra2"
      ],
      "metadata": {
        "id": "L_WQ4qclZ-Ut"
      },
      "execution_count": null,
      "outputs": []
    },
    {
      "cell_type": "code",
      "source": [
        ""
      ],
      "metadata": {
        "id": "Aa4hT09BjkIp"
      },
      "execution_count": null,
      "outputs": []
    },
    {
      "cell_type": "markdown",
      "source": [
        "# **OCR:**"
      ],
      "metadata": {
        "id": "c4wn0hS1Id_f"
      }
    },
    {
      "cell_type": "code",
      "source": [
        "!pip uninstall imgaug"
      ],
      "metadata": {
        "id": "IDX_ug554fHx",
        "outputId": "015927a1-72d7-4891-a708-fa81b62d46da",
        "colab": {
          "base_uri": "https://localhost:8080/"
        }
      },
      "execution_count": 5,
      "outputs": [
        {
          "output_type": "stream",
          "name": "stdout",
          "text": [
            "Found existing installation: imgaug 0.2.9\n",
            "Uninstalling imgaug-0.2.9:\n",
            "  Would remove:\n",
            "    /usr/local/lib/python3.7/dist-packages/imgaug-0.2.9.dist-info/*\n",
            "    /usr/local/lib/python3.7/dist-packages/imgaug/*\n",
            "Proceed (y/n)? y\n",
            "  Successfully uninstalled imgaug-0.2.9\n"
          ]
        }
      ]
    },
    {
      "cell_type": "code",
      "source": [
        "!pip install pytesseract"
      ],
      "metadata": {
        "id": "jnLGe1e14SHT",
        "outputId": "1a4898f6-5398-4320-df87-a09011a79d2c",
        "colab": {
          "base_uri": "https://localhost:8080/"
        }
      },
      "execution_count": 7,
      "outputs": [
        {
          "output_type": "stream",
          "name": "stdout",
          "text": [
            "Requirement already satisfied: pytesseract in /usr/local/lib/python3.7/dist-packages (0.3.9)\n",
            "Requirement already satisfied: packaging>=21.3 in /usr/local/lib/python3.7/dist-packages (from pytesseract) (21.3)\n",
            "Requirement already satisfied: Pillow>=8.0.0 in /usr/local/lib/python3.7/dist-packages (from pytesseract) (9.1.0)\n",
            "Requirement already satisfied: pyparsing!=3.0.5,>=2.0.2 in /usr/local/lib/python3.7/dist-packages (from packaging>=21.3->pytesseract) (3.0.8)\n"
          ]
        }
      ]
    },
    {
      "cell_type": "code",
      "source": [
        "!sudo apt-get install tesseract-ocr-fas"
      ],
      "metadata": {
        "id": "DJD9fUozLwXS"
      },
      "execution_count": null,
      "outputs": []
    },
    {
      "cell_type": "code",
      "source": [
        "from PIL import Image\n",
        "import pytesseract\n",
        "# import cv2 as cv"
      ],
      "metadata": {
        "id": "hZvSa0wmIskC"
      },
      "execution_count": 1,
      "outputs": []
    },
    {
      "cell_type": "code",
      "source": [
        "import cv2 as cv"
      ],
      "metadata": {
        "id": "qX9DdAfs42W7"
      },
      "execution_count": 10,
      "outputs": []
    },
    {
      "cell_type": "code",
      "source": [
        "import numpy as np"
      ],
      "metadata": {
        "id": "GQ_M0Rhm66mD"
      },
      "execution_count": 18,
      "outputs": []
    },
    {
      "cell_type": "code",
      "source": [
        "!pip install --ignore-installed Pillow==9.0.0"
      ],
      "metadata": {
        "id": "JLVkDNXR5Szb"
      },
      "execution_count": null,
      "outputs": []
    },
    {
      "cell_type": "code",
      "source": [
        "from matplotlib import pyplot as plt"
      ],
      "metadata": {
        "id": "h1l6T7oEALJ9"
      },
      "execution_count": 56,
      "outputs": []
    },
    {
      "cell_type": "code",
      "source": [
        "img = cv.imread('id2.png', 0)\n",
        "\n",
        "# a = np.double(img)\n",
        "# b = a + 15\n",
        "# img = np.uint8(b)\n",
        "\n",
        "# dst = cv.fastNlMeansDenoisingColored(img,None,10,10,7,21)\n",
        "\n",
        "# img = cv.medianBlur(img,5)\n",
        "# dst = cv.adaptiveThreshold(img, 255, cv.ADAPTIVE_THRESH_GAUSSIAN_C, cv.THRESH_BINARY,11,2)\n",
        "\n",
        "ret1,dst = cv.threshold(img,127,255,cv.THRESH_BINARY)\n",
        "\n",
        "# a = np.double(dst)\n",
        "# b = a + 15\n",
        "# dst = np.uint8(b)\n",
        "\n",
        "\n",
        "plt.subplot(121),plt.imshow(img)\n",
        "plt.subplot(122),plt.imshow(dst)\n",
        "plt.show()\n",
        "\n",
        "# dst.save(\"id4.png\", dpi=(300,300))\n",
        "\n",
        "LANG = \"fas\"\n",
        "print(pytesseract.image_to_string(dst, lang=LANG))"
      ],
      "metadata": {
        "id": "_IaLNvNp-zHo",
        "outputId": "e7881134-eed3-443f-d73a-5ac190f54290",
        "colab": {
          "base_uri": "https://localhost:8080/",
          "height": 122
        }
      },
      "execution_count": 108,
      "outputs": [
        {
          "output_type": "display_data",
          "data": {
            "text/plain": [
              "<Figure size 432x288 with 2 Axes>"
            ],
            "image/png": "[encoded data removed]"
          },
          "metadata": {
            "needs_background": "light"
          }
        },
        {
          "output_type": "stream",
          "name": "stdout",
          "text": [
            "۳۶ ۵۷۴\n",
            "\f\n"
          ]
        }
      ]
    },
    {
      "cell_type": "code",
      "source": [
        "# IMG = Image.open('id.jpg')\n",
        "# IMG.save(\"id3.png\", dpi=(600,600))\n",
        "IMG = Image.open('id3.png')\n",
        "# IMG = cv.cvtColor(IMG, cv.COLOR_RGB2BGR)\n",
        "IMG = IMG.convert(\"0\")\n",
        "# IMG = cv.imread('id.jpg', cv.IMREAD_GRAYSCALE)\n",
        "LANG = \"fas\"\n",
        "CONFIG = \"--psm 11 --oem 3\"\n",
        "print(pytesseract.image_to_string(IMG, lang=LANG))\n",
        "IMG"
      ],
      "metadata": {
        "id": "WJEEc9fqIhTz",
        "outputId": "362addf6-048d-4a70-a0b0-1327077e0380",
        "colab": {
          "base_uri": "https://localhost:8080/",
          "height": 90
        }
      },
      "execution_count": 46,
      "outputs": [
        {
          "output_type": "stream",
          "name": "stdout",
          "text": [
            "۳۶۱ ۱ ۸۷۷۴\n",
            "\f\n"
          ]
        },
        {
          "output_type": "execute_result",
          "data": {
            "text/plain": [
              "<PIL.PngImagePlugin.PngImageFile image mode=RGB size=162x38 at 0x7F93CB1376D0>"
            ],
            "image/png": "[encoded data removed]"
          },
          "metadata": {},
          "execution_count": 46
        }
      ]
    },
    {
      "cell_type": "code",
      "source": [
        ""
      ],
      "metadata": {
        "id": "9DaPJQbdI6VN"
      },
      "execution_count": null,
      "outputs": []
    }
  ]
}