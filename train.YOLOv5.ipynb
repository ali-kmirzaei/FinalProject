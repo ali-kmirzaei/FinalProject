{
  "nbformat": 4,
  "nbformat_minor": 0,
  "metadata": {
    "colab": {
      "name": "Untitled4.ipynb",
      "provenance": [],
      "collapsed_sections": [],
      "authorship_tag": "ABX9TyNwq/pfJKyZM8VFL1qEOg3Q",
      "include_colab_link": true
    },
    "kernelspec": {
      "name": "python3",
      "display_name": "Python 3"
    },
    "language_info": {
      "name": "python"
    },
    "accelerator": "GPU"
  },
  "cells": [
    {
      "cell_type": "markdown",
      "metadata": {
        "id": "view-in-github",
        "colab_type": "text"
      },
      "source": [
        "<a href=\"https://colab.research.google.com/github/ali-kmirzaei/YOLO/blob/main/train.YOLOv5.ipynb\" target=\"_parent\"><img src=\"https://colab.research.google.com/assets/colab-badge.svg\" alt=\"Open In Colab\"/></a>"
      ]
    },
    {
      "cell_type": "code",
      "execution_count": null,
      "metadata": {
        "id": "bfmBECvKub9t"
      },
      "outputs": [],
      "source": [
        "!git clone https://github.com/ultralytics/yolov5 "
      ]
    },
    {
      "cell_type": "code",
      "source": [
        "%cd yolov5\n",
        "!pip install -r requirements.txt "
      ],
      "metadata": {
        "id": "4CQClzLXuii0"
      },
      "execution_count": null,
      "outputs": []
    },
    {
      "cell_type": "code",
      "source": [
        "# import dataset from google drive\n",
        "from google.colab import drive\n",
        "drive.mount('/content/gdrive')\n",
        "!ln -s /content/gdrive/My\\ Drive/ /mydrive\n",
        "!ls /mydrive\n"
      ],
      "metadata": {
        "colab": {
          "base_uri": "https://localhost:8080/"
        },
        "id": "BEjHphQWvYyl",
        "outputId": "29531bcb-83d6-4bb7-bc34-c9c969a940b9"
      },
      "execution_count": 3,
      "outputs": [
        {
          "output_type": "stream",
          "name": "stdout",
          "text": [
            "Mounted at /content/gdrive\n",
            " 1500.weights   4001419029.zip\t   empty.zip\t obj.zip\t      TEST.zip\n",
            " 4000.weights  'Colab Notebooks'   newPack.zip\t step2_6000.weights   train.zip\n"
          ]
        }
      ]
    },
    {
      "cell_type": "code",
      "source": [
        "!unzip /mydrive/newPack.zip -d data"
      ],
      "metadata": {
        "id": "TNq0YTXfxv3V"
      },
      "execution_count": null,
      "outputs": []
    },
    {
      "cell_type": "markdown",
      "source": [
        "# **split train and test files:**"
      ],
      "metadata": {
        "id": "9w1b9n3x0RnK"
      }
    },
    {
      "cell_type": "code",
      "source": [
        "import os\n",
        "import glob\n",
        "import random\n",
        "import shutil"
      ],
      "metadata": {
        "id": "E8tovU15y0nk"
      },
      "execution_count": 11,
      "outputs": []
    },
    {
      "cell_type": "code",
      "source": [
        "image_list = list()\n",
        "label_list = list()\n",
        "total_tuples = list()\n",
        "\n",
        "total = glob.glob('data/newPack/*')\n",
        "total.sort()\n",
        "\n",
        "for i in range(0, len(total)-1, 2):\n",
        "  total_tuples.append((total[i], total[i+1]))\n",
        "\n",
        "# # validate list:\n",
        "# for tpl in total_tuples:\n",
        "#   if tpl[0][13: 23] != tpl[1][13: 23]:\n",
        "#     print(\"ERROR\")\n",
        "\n",
        "random.shuffle(total_tuples)\n",
        "\n",
        "num = 1085\n",
        "for i in range(num):\n",
        "  # IMG\n",
        "  src = total_tuples[i][0]\n",
        "  dst = 'data/images/train/'+src[13:]\n",
        "  shutil.copyfile(src, dst)\n",
        "  # LBL\n",
        "  src = total_tuples[i][1]\n",
        "  dst = 'data/labels/train/'+src[13:]\n",
        "  shutil.copyfile(src, dst)\n",
        "\n",
        "for i in range(num, 1550):\n",
        "  # IMG\n",
        "  src = total_tuples[i][0]\n",
        "  dst = 'data/images/test/'+src[13:]\n",
        "  shutil.copyfile(src, dst)\n",
        "  # LBL\n",
        "  src = total_tuples[i][1]\n",
        "  dst = 'data/labels/test/'+src[13:]\n",
        "  shutil.copyfile(src, dst)"
      ],
      "metadata": {
        "id": "khzKVfYvzRl3"
      },
      "execution_count": 64,
      "outputs": []
    },
    {
      "cell_type": "code",
      "source": [
        "!rm -rf data/images\n",
        "!rm -rf data/labels\n",
        "\n",
        "!mkdir data/images\n",
        "!mkdir data/images/test\n",
        "!mkdir data/images/train\n",
        "\n",
        "!mkdir data/labels\n",
        "!mkdir data/labels/test\n",
        "!mkdir data/labels/train"
      ],
      "metadata": {
        "id": "-3HGT9xnzUKJ"
      },
      "execution_count": 50,
      "outputs": []
    },
    {
      "cell_type": "code",
      "source": [
        "!python train.py --img 640 --cfg data/yolov5s.yaml --hyp hyperparameters.yaml --batch 64 --epochs 100 --data idcard_data.yaml --weights yolov5s.pt --workers 24 --name yolo_idcard"
      ],
      "metadata": {
        "id": "v8BZPi6U1TFK"
      },
      "execution_count": null,
      "outputs": []
    },
    {
      "cell_type": "code",
      "source": [
        ""
      ],
      "metadata": {
        "id": "-Ing7O836Vus"
      },
      "execution_count": null,
      "outputs": []
    }
  ]
}